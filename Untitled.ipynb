{
 "cells": [
  {
   "cell_type": "code",
   "execution_count": 1,
   "id": "c49d4095",
   "metadata": {},
   "outputs": [
    {
     "data": {
      "text/plain": [
       "{'pipeline': [{'bounds': '([-10425171.940, -10423171.940], [5164494.710, 5166494.710])',\n",
       "   'filename': 'https://s3-us-west-2.amazonaws.com/usgs-lidar-public/IA_FullState/ept.json',\n",
       "   'type': 'readers.ept',\n",
       "   'tag': 'readdata'},\n",
       "  {'limits': 'Classification![7:7]',\n",
       "   'type': 'filters.range',\n",
       "   'tag': 'nonoise'},\n",
       "  {'assignment': 'Classification[:]=0',\n",
       "   'tag': 'wipeclasses',\n",
       "   'type': 'filters.assign'},\n",
       "  {'out_srs': 'EPSG:26915',\n",
       "   'tag': 'reprojectUTM',\n",
       "   'type': 'filters.reprojection'},\n",
       "  {'tag': 'groundify', 'type': 'filters.smrf'},\n",
       "  {'limits': 'Classification[2:2]',\n",
       "   'type': 'filters.range',\n",
       "   'tag': 'classify'},\n",
       "  {'filename': 'iowa.laz',\n",
       "   'inputs': ['classify'],\n",
       "   'tag': 'writerslas',\n",
       "   'type': 'writers.las'},\n",
       "  {'filename': 'iowa.tif',\n",
       "   'gdalopts': 'tiled=yes,     compress=deflate',\n",
       "   'inputs': ['writerslas'],\n",
       "   'nodata': -9999,\n",
       "   'output_type': 'idw',\n",
       "   'resolution': 1,\n",
       "   'type': 'writers.gdal',\n",
       "   'window_size': 6}]}"
      ]
     },
     "execution_count": 1,
     "metadata": {},
     "output_type": "execute_result"
    }
   ],
   "source": [
    "{\n",
    "    \"pipeline\": [\n",
    "        {\n",
    "\"bounds\": \"([-10425171.940, -10423171.940], [5164494.710, 5166494.710])\",\n",
    "\"filename\": \"https://s3-us-west-2.amazonaws.com/usgs-lidar-public/IA_FullState/ept.json\",\n",
    "\"type\": \"readers.ept\",\n",
    "\"tag\": \"readdata\"\n",
    "        },\n",
    "        {\n",
    "            \"limits\": \"Classification![7:7]\",\n",
    "            \"type\": \"filters.range\",\n",
    "            \"tag\": \"nonoise\"\n",
    "        },\n",
    "        {\n",
    "            \"assignment\": \"Classification[:]=0\",\n",
    "            \"tag\": \"wipeclasses\",\n",
    "            \"type\": \"filters.assign\"\n",
    "        },\n",
    "        {\n",
    "            \"out_srs\": \"EPSG:26915\",\n",
    "            \"tag\": \"reprojectUTM\",\n",
    "            \"type\": \"filters.reprojection\"\n",
    "        },\n",
    "        {\n",
    "            \"tag\": \"groundify\",\n",
    "            \"type\": \"filters.smrf\"\n",
    "        },\n",
    "        {\n",
    "            \"limits\": \"Classification[2:2]\",\n",
    "            \"type\": \"filters.range\",\n",
    "            \"tag\": \"classify\"\n",
    "        },\n",
    "        {\n",
    "            \"filename\": \"iowa.laz\",\n",
    "            \"inputs\": [ \"classify\" ],\n",
    "            \"tag\": \"writerslas\",\n",
    "            \"type\": \"writers.las\"\n",
    "        },\n",
    "        {\n",
    "            \"filename\": \"iowa.tif\",\n",
    "            \"gdalopts\": \"tiled=yes,     compress=deflate\",\n",
    "            \"inputs\": [ \"writerslas\" ],\n",
    "            \"nodata\": -9999,\n",
    "            \"output_type\": \"idw\",\n",
    "            \"resolution\": 1,\n",
    "            \"type\": \"writers.gdal\",\n",
    "            \"window_size\": 6\n",
    "        }\n",
    "    ]\n",
    "}"
   ]
  },
  {
   "cell_type": "code",
   "execution_count": null,
   "id": "c1e09a7e",
   "metadata": {},
   "outputs": [],
   "source": []
  }
 ],
 "metadata": {
  "kernelspec": {
   "display_name": "Python 3",
   "language": "python",
   "name": "python3"
  },
  "language_info": {
   "codemirror_mode": {
    "name": "ipython",
    "version": 3
   },
   "file_extension": ".py",
   "mimetype": "text/x-python",
   "name": "python",
   "nbconvert_exporter": "python",
   "pygments_lexer": "ipython3",
   "version": "3.8.8"
  }
 },
 "nbformat": 4,
 "nbformat_minor": 5
}
